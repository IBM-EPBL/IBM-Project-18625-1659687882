{
  "cells": [
    {
      "cell_type": "code",
      "source": [
        "from tensorflow.keras.preprocessing.image import ImageDataGenerator"
      ],
      "metadata": {
        "id": "AYpfHC07A7iD"
      },
      "execution_count": null,
      "outputs": []
    },
    {
      "cell_type": "code",
      "source": [
        "train_datagen = ImageDataGenerator(rescale=1./255,zoom_range=0.2,horizontal_flip=True) \n",
        "test_datagen = ImageDataGenerator(rescale=1./255,)"
      ],
      "metadata": {
        "id": "Cuf5x3t_BCpA"
      },
      "execution_count": null,
      "outputs": []
    },
    {
      "cell_type": "code",
      "source": [
        "x_train = train_datagen.flow_from_directory(r'/content/drive/MyDrive/IBM/Dataset/Dataset Plant Disease/fruit-dataset/fruit-dataset/train',target_size = (128,128),batch_size = 32, class_mode = 'categorical')"
      ],
      "metadata": {
        "id": "WYMY6CSBBI9w",
        "outputId": "3903181a-1f6d-4eb6-bbef-54330e146ecb",
        "colab": {
          "base_uri": "https://localhost:8080/"
        }
      },
      "execution_count": null,
      "outputs": [
        {
          "output_type": "stream",
          "name": "stdout",
          "text": [
            "Found 5448 images belonging to 6 classes.\n"
          ]
        }
      ]
    },
    {
      "cell_type": "code",
      "source": [
        "x_test = test_datagen.flow_from_directory(r'/content/drive/MyDrive/IBM/Dataset/Dataset Plant Disease/fruit-dataset/fruit-dataset/test',target_size = (128,128),batch_size = 32,class_mode = 'categorical')\n"
      ],
      "metadata": {
        "id": "X8ho5ZJEBwxw",
        "outputId": "83a20792-b0ac-4694-c995-8b3a5c607d3a",
        "colab": {
          "base_uri": "https://localhost:8080/"
        }
      },
      "execution_count": null,
      "outputs": [
        {
          "output_type": "stream",
          "name": "stdout",
          "text": [
            "Found 1696 images belonging to 6 classes.\n"
          ]
        }
      ]
    },
    {
      "cell_type": "code",
      "source": [
        "x_train.class_indices"
      ],
      "metadata": {
        "id": "T1JNLqg2B9yo",
        "outputId": "2d7ece12-eb90-47e3-a6f6-c24f798578a2",
        "colab": {
          "base_uri": "https://localhost:8080/"
        }
      },
      "execution_count": null,
      "outputs": [
        {
          "output_type": "execute_result",
          "data": {
            "text/plain": [
              "{'Apple___Black_rot': 0,\n",
              " 'Apple___healthy': 1,\n",
              " 'Corn_(maize)___Northern_Leaf_Blight': 2,\n",
              " 'Corn_(maize)___healthy': 3,\n",
              " 'Peach___Bacterial_spot': 4,\n",
              " 'Peach___healthy': 5}"
            ]
          },
          "metadata": {},
          "execution_count": 22
        }
      ]
    },
    {
      "cell_type": "code",
      "source": [
        "from tensorflow.keras.models import Sequential\n",
        "from tensorflow.keras.layers import Dense,Convolution2D,MaxPooling2D,Flatten\n"
      ],
      "metadata": {
        "id": "siCwbDfpB_K-"
      },
      "execution_count": null,
      "outputs": []
    },
    {
      "cell_type": "code",
      "source": [
        "model=Sequential()"
      ],
      "metadata": {
        "id": "hkJ7faJPCD5n"
      },
      "execution_count": null,
      "outputs": []
    },
    {
      "cell_type": "code",
      "source": [
        "model.add(Convolution2D(32,(3,3),input_shape=(128,128,3),activation='relu'))"
      ],
      "metadata": {
        "id": "KTsH7TSgCGxs"
      },
      "execution_count": null,
      "outputs": []
    },
    {
      "cell_type": "code",
      "source": [
        "model.add(MaxPooling2D(pool_size=(2,2)))"
      ],
      "metadata": {
        "id": "93XIAiBDCJfx"
      },
      "execution_count": null,
      "outputs": []
    },
    {
      "cell_type": "code",
      "source": [
        "model.add(Flatten())"
      ],
      "metadata": {
        "id": "7IMEcODwCMdx"
      },
      "execution_count": null,
      "outputs": []
    },
    {
      "cell_type": "code",
      "source": [
        "model.summary()"
      ],
      "metadata": {
        "id": "_DejmrT2CPov",
        "outputId": "4001d79d-d4ba-4eb7-8ad8-cc82d8422eae",
        "colab": {
          "base_uri": "https://localhost:8080/"
        }
      },
      "execution_count": null,
      "outputs": [
        {
          "output_type": "stream",
          "name": "stdout",
          "text": [
            "Model: \"sequential_1\"\n",
            "_________________________________________________________________\n",
            " Layer (type)                Output Shape              Param #   \n",
            "=================================================================\n",
            " conv2d_1 (Conv2D)           (None, 126, 126, 32)      896       \n",
            "                                                                 \n",
            " max_pooling2d_1 (MaxPooling  (None, 63, 63, 32)       0         \n",
            " 2D)                                                             \n",
            "                                                                 \n",
            " flatten_1 (Flatten)         (None, 127008)            0         \n",
            "                                                                 \n",
            "=================================================================\n",
            "Total params: 896\n",
            "Trainable params: 896\n",
            "Non-trainable params: 0\n",
            "_________________________________________________________________\n"
          ]
        }
      ]
    },
    {
      "cell_type": "code",
      "source": [
        "model.add(Dense(6,activation='softmax'))"
      ],
      "metadata": {
        "id": "ZJv6wp6CCUAb"
      },
      "execution_count": null,
      "outputs": []
    },
    {
      "cell_type": "code",
      "source": [
        "model.compile(loss='categorical_crossentropy',optimizer='adam',metrics=['accuracy'])"
      ],
      "metadata": {
        "id": "sxKmFUNtCZdz"
      },
      "execution_count": null,
      "outputs": []
    },
    {
      "cell_type": "code",
      "source": [
        "len(x_train)"
      ],
      "metadata": {
        "id": "H9jNk-Y3Cc0X",
        "outputId": "b54c5699-7568-4328-c9b7-7a5b97916765",
        "colab": {
          "base_uri": "https://localhost:8080/"
        }
      },
      "execution_count": null,
      "outputs": [
        {
          "output_type": "execute_result",
          "data": {
            "text/plain": [
              "171"
            ]
          },
          "metadata": {},
          "execution_count": 31
        }
      ]
    },
    {
      "cell_type": "code",
      "source": [
        "model.fit_generator(x_train,steps_per_epoch=len(x_train),validation_data=x_test,validation_steps=len(x_test),epochs=10)"
      ],
      "metadata": {
        "id": "AfghFdgdCkhY",
        "outputId": "b42c096f-8524-4451-952f-f83142675078",
        "colab": {
          "base_uri": "https://localhost:8080/"
        }
      },
      "execution_count": null,
      "outputs": [
        {
          "output_type": "stream",
          "name": "stderr",
          "text": [
            "/usr/local/lib/python3.7/dist-packages/ipykernel_launcher.py:1: UserWarning: `Model.fit_generator` is deprecated and will be removed in a future version. Please use `Model.fit`, which supports generators.\n",
            "  \"\"\"Entry point for launching an IPython kernel.\n"
          ]
        },
        {
          "output_type": "stream",
          "name": "stdout",
          "text": [
            "Epoch 1/10\n",
            "171/171 [==============================] - 37s 215ms/step - loss: 0.6759 - accuracy: 0.8007 - val_loss: 0.3976 - val_accuracy: 0.8550\n",
            "Epoch 2/10\n",
            "171/171 [==============================] - 36s 212ms/step - loss: 0.2652 - accuracy: 0.9088 - val_loss: 0.2140 - val_accuracy: 0.9245\n",
            "Epoch 3/10\n",
            "171/171 [==============================] - 36s 210ms/step - loss: 0.2217 - accuracy: 0.9269 - val_loss: 0.2333 - val_accuracy: 0.9186\n",
            "Epoch 4/10\n",
            "171/171 [==============================] - 37s 218ms/step - loss: 0.1855 - accuracy: 0.9387 - val_loss: 0.2355 - val_accuracy: 0.9180\n",
            "Epoch 5/10\n",
            "171/171 [==============================] - 36s 210ms/step - loss: 0.1676 - accuracy: 0.9431 - val_loss: 0.1273 - val_accuracy: 0.9587\n",
            "Epoch 6/10\n",
            "171/171 [==============================] - 36s 212ms/step - loss: 0.1370 - accuracy: 0.9558 - val_loss: 0.1602 - val_accuracy: 0.9452\n",
            "Epoch 7/10\n",
            "171/171 [==============================] - 37s 218ms/step - loss: 0.1254 - accuracy: 0.9572 - val_loss: 0.1931 - val_accuracy: 0.9322\n",
            "Epoch 8/10\n",
            "171/171 [==============================] - 36s 211ms/step - loss: 0.1227 - accuracy: 0.9580 - val_loss: 0.1378 - val_accuracy: 0.9475\n",
            "Epoch 9/10\n",
            "171/171 [==============================] - 36s 210ms/step - loss: 0.1191 - accuracy: 0.9561 - val_loss: 0.1132 - val_accuracy: 0.9611\n",
            "Epoch 10/10\n",
            "171/171 [==============================] - 36s 210ms/step - loss: 0.1109 - accuracy: 0.9600 - val_loss: 0.1426 - val_accuracy: 0.9505\n"
          ]
        },
        {
          "output_type": "execute_result",
          "data": {
            "text/plain": [
              "<keras.callbacks.History at 0x7fc7c6521290>"
            ]
          },
          "metadata": {},
          "execution_count": 32
        }
      ]
    },
    {
      "cell_type": "code",
      "source": [
        "model.save('fruit.h5')"
      ],
      "metadata": {
        "id": "TOFXvOAsJU7x"
      },
      "execution_count": null,
      "outputs": []
    },
    {
      "cell_type": "code",
      "source": [
        "import numpy as np\n",
        "from tensorflow.keras.models import load_model\n",
        "from tensorflow.keras.preprocessing import image"
      ],
      "metadata": {
        "id": "LAAkHXM_sUN_"
      },
      "execution_count": 40,
      "outputs": []
    },
    {
      "cell_type": "code",
      "source": [
        "model.save('fruit.h5')"
      ],
      "metadata": {
        "id": "UboQcGB_t55p"
      },
      "execution_count": 41,
      "outputs": []
    },
    {
      "cell_type": "code",
      "source": [
        "img=image.load_img(r\"/content/drive/MyDrive/IBM/Dataset/Dataset Plant Disease/fruit-dataset/fruit-dataset/test/Apple___Black_rot/01e94c43-0879-4e8c-9b61-c48cfed88dab___JR_FrgE.S 3024.JPG\",target_size=(128,128))\n"
      ],
      "metadata": {
        "id": "FmiIlO5Vt9lU"
      },
      "execution_count": 42,
      "outputs": []
    },
    {
      "cell_type": "code",
      "source": [
        "img"
      ],
      "metadata": {
        "colab": {
          "base_uri": "https://localhost:8080/",
          "height": 145
        },
        "id": "jPXnoudTuxo7",
        "outputId": "4d0382f1-a9dc-4cf7-9e6e-51d5f0bad323"
      },
      "execution_count": 43,
      "outputs": [
        {
          "output_type": "execute_result",
          "data": {
            "text/plain": [
              "<PIL.Image.Image image mode=RGB size=128x128 at 0x7FC7AD3A5A90>"
            ],
            "image/png": "[encoded data removed]"
          },
          "metadata": {},
          "execution_count": 43
        }
      ]
    },
    {
      "cell_type": "code",
      "source": [
        "x=image.img_to_array(img)\n"
      ],
      "metadata": {
        "id": "YG260r06u3qy"
      },
      "execution_count": 44,
      "outputs": []
    },
    {
      "cell_type": "code",
      "source": [
        "x"
      ],
      "metadata": {
        "colab": {
          "base_uri": "https://localhost:8080/"
        },
        "id": "VM6uHkEzu7EN",
        "outputId": "6c73ab1b-e8d2-4dd5-e1e3-6afbdf0933de"
      },
      "execution_count": 45,
      "outputs": [
        {
          "output_type": "execute_result",
          "data": {
            "text/plain": [
              "array([[[208., 201., 217.],\n",
              "        [199., 192., 208.],\n",
              "        [200., 193., 209.],\n",
              "        ...,\n",
              "        [181., 173., 196.],\n",
              "        [180., 172., 195.],\n",
              "        [185., 177., 200.]],\n",
              "\n",
              "       [[197., 190., 206.],\n",
              "        [193., 186., 202.],\n",
              "        [198., 191., 207.],\n",
              "        ...,\n",
              "        [176., 168., 191.],\n",
              "        [170., 162., 185.],\n",
              "        [165., 157., 180.]],\n",
              "\n",
              "       [[201., 194., 210.],\n",
              "        [201., 194., 210.],\n",
              "        [193., 186., 202.],\n",
              "        ...,\n",
              "        [173., 165., 188.],\n",
              "        [175., 167., 190.],\n",
              "        [170., 162., 185.]],\n",
              "\n",
              "       ...,\n",
              "\n",
              "       [[132., 118., 133.],\n",
              "        [140., 126., 141.],\n",
              "        [126., 112., 127.],\n",
              "        ...,\n",
              "        [130., 121., 142.],\n",
              "        [108.,  99., 120.],\n",
              "        [120., 111., 132.]],\n",
              "\n",
              "       [[152., 138., 153.],\n",
              "        [125., 111., 126.],\n",
              "        [121., 107., 122.],\n",
              "        ...,\n",
              "        [ 90.,  81., 102.],\n",
              "        [109., 100., 121.],\n",
              "        [120., 111., 132.]],\n",
              "\n",
              "       [[111.,  97., 112.],\n",
              "        [115., 101., 116.],\n",
              "        [114., 100., 115.],\n",
              "        ...,\n",
              "        [109., 100., 121.],\n",
              "        [ 93.,  84., 105.],\n",
              "        [110., 101., 122.]]], dtype=float32)"
            ]
          },
          "metadata": {},
          "execution_count": 45
        }
      ]
    },
    {
      "cell_type": "code",
      "source": [
        "x=np.expand_dims(x,axis=0)\n"
      ],
      "metadata": {
        "id": "0PMeZwCivBYA"
      },
      "execution_count": 46,
      "outputs": []
    },
    {
      "cell_type": "code",
      "source": [
        "x"
      ],
      "metadata": {
        "colab": {
          "base_uri": "https://localhost:8080/"
        },
        "id": "GiEffUVxvFz9",
        "outputId": "2824d888-7414-428e-a028-36d2d675c15a"
      },
      "execution_count": 47,
      "outputs": [
        {
          "output_type": "execute_result",
          "data": {
            "text/plain": [
              "array([[[[208., 201., 217.],\n",
              "         [199., 192., 208.],\n",
              "         [200., 193., 209.],\n",
              "         ...,\n",
              "         [181., 173., 196.],\n",
              "         [180., 172., 195.],\n",
              "         [185., 177., 200.]],\n",
              "\n",
              "        [[197., 190., 206.],\n",
              "         [193., 186., 202.],\n",
              "         [198., 191., 207.],\n",
              "         ...,\n",
              "         [176., 168., 191.],\n",
              "         [170., 162., 185.],\n",
              "         [165., 157., 180.]],\n",
              "\n",
              "        [[201., 194., 210.],\n",
              "         [201., 194., 210.],\n",
              "         [193., 186., 202.],\n",
              "         ...,\n",
              "         [173., 165., 188.],\n",
              "         [175., 167., 190.],\n",
              "         [170., 162., 185.]],\n",
              "\n",
              "        ...,\n",
              "\n",
              "        [[132., 118., 133.],\n",
              "         [140., 126., 141.],\n",
              "         [126., 112., 127.],\n",
              "         ...,\n",
              "         [130., 121., 142.],\n",
              "         [108.,  99., 120.],\n",
              "         [120., 111., 132.]],\n",
              "\n",
              "        [[152., 138., 153.],\n",
              "         [125., 111., 126.],\n",
              "         [121., 107., 122.],\n",
              "         ...,\n",
              "         [ 90.,  81., 102.],\n",
              "         [109., 100., 121.],\n",
              "         [120., 111., 132.]],\n",
              "\n",
              "        [[111.,  97., 112.],\n",
              "         [115., 101., 116.],\n",
              "         [114., 100., 115.],\n",
              "         ...,\n",
              "         [109., 100., 121.],\n",
              "         [ 93.,  84., 105.],\n",
              "         [110., 101., 122.]]]], dtype=float32)"
            ]
          },
          "metadata": {},
          "execution_count": 47
        }
      ]
    },
    {
      "cell_type": "code",
      "source": [
        "y=np.argmax(model.predict(x),axis=1)\n"
      ],
      "metadata": {
        "colab": {
          "base_uri": "https://localhost:8080/"
        },
        "id": "7XRAy7t-vIgu",
        "outputId": "cfbd8a31-1112-4311-ec8b-02e36cf7ef37"
      },
      "execution_count": 48,
      "outputs": [
        {
          "output_type": "stream",
          "name": "stdout",
          "text": [
            "1/1 [==============================] - 0s 104ms/step\n"
          ]
        }
      ]
    },
    {
      "cell_type": "code",
      "source": [
        "x_train.class_indices\n"
      ],
      "metadata": {
        "colab": {
          "base_uri": "https://localhost:8080/"
        },
        "id": "nR21uedOvMkd",
        "outputId": "6ee08496-4ff2-43c0-baec-cc5333bcc13f"
      },
      "execution_count": 49,
      "outputs": [
        {
          "output_type": "execute_result",
          "data": {
            "text/plain": [
              "{'Apple___Black_rot': 0,\n",
              " 'Apple___healthy': 1,\n",
              " 'Corn_(maize)___Northern_Leaf_Blight': 2,\n",
              " 'Corn_(maize)___healthy': 3,\n",
              " 'Peach___Bacterial_spot': 4,\n",
              " 'Peach___healthy': 5}"
            ]
          },
          "metadata": {},
          "execution_count": 49
        }
      ]
    },
    {
      "cell_type": "code",
      "source": [
        "index=['Apple___Black_rot','Apple___healthy','Corn_(maize)___Northern_Leaf_Blight','Corn_(maize)___healthy','Peach___Bacterial_spot','Peach___healthy']\n"
      ],
      "metadata": {
        "id": "3lge5uCyvP4Q"
      },
      "execution_count": 51,
      "outputs": []
    },
    {
      "cell_type": "code",
      "source": [
        "img=image.load_img(r\"/content/drive/MyDrive/IBM/Dataset/Dataset Plant Disease/fruit-dataset/fruit-dataset/test/Corn_(maize)___Northern_Leaf_Blight/00a14441-7a62-4034-bc40-b196aeab2785___RS_NLB 3932.JPG\",target_size=(128,128))\n",
        "x=image.img_to_array(img)\n"
      ],
      "metadata": {
        "id": "c9B0kFUOve36"
      },
      "execution_count": 58,
      "outputs": []
    },
    {
      "cell_type": "code",
      "source": [
        "index[y[0]]\n"
      ],
      "metadata": {
        "colab": {
          "base_uri": "https://localhost:8080/",
          "height": 35
        },
        "id": "q37eWCrwwWyT",
        "outputId": "f6c86147-41ba-46a5-8825-d8f685c97e24"
      },
      "execution_count": 60,
      "outputs": [
        {
          "output_type": "execute_result",
          "data": {
            "text/plain": [
              "'Apple___healthy'"
            ],
            "application/vnd.google.colaboratory.intrinsic+json": {
              "type": "string"
            }
          },
          "metadata": {},
          "execution_count": 60
        }
      ]
    }
  ],
  "metadata": {
    "colab": {
      "provenance": []
    },
    "kernelspec": {
      "display_name": "Python 3",
      "name": "python3"
    },
    "accelerator": "GPU",
    "gpuClass": "standard"
  },
  "nbformat": 4,
  "nbformat_minor": 0
}