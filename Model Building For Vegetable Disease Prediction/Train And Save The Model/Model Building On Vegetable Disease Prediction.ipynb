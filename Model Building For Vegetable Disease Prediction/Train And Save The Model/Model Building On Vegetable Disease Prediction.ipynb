{
  "cells": [
    {
      "cell_type": "code",
      "source": [
        "from tensorflow.keras.preprocessing.image import ImageDataGenerator"
      ],
      "metadata": {
        "id": "AYpfHC07A7iD"
      },
      "execution_count": 4,
      "outputs": []
    },
    {
      "cell_type": "code",
      "source": [
        "train_datagen = ImageDataGenerator(rescale=1./255,zoom_range=0.2,horizontal_flip=True) \n",
        "test_datagen = ImageDataGenerator(rescale=1./255,)"
      ],
      "metadata": {
        "id": "Cuf5x3t_BCpA"
      },
      "execution_count": 5,
      "outputs": []
    },
    {
      "cell_type": "code",
      "source": [
        "x_train = train_datagen.flow_from_directory(r'/content/drive/MyDrive/IBM/Dataset/Dataset Plant Disease/Veg-dataset/Veg-dataset/train_set',target_size = (128,128),batch_size = 32, class_mode = 'categorical')"
      ],
      "metadata": {
        "colab": {
          "base_uri": "https://localhost:8080/"
        },
        "id": "WYMY6CSBBI9w",
        "outputId": "24c79a95-e277-46df-9bd7-f5a19342585e"
      },
      "execution_count": 24,
      "outputs": [
        {
          "output_type": "stream",
          "name": "stdout",
          "text": [
            "Found 11408 images belonging to 9 classes.\n"
          ]
        }
      ]
    },
    {
      "cell_type": "code",
      "source": [
        "x_test = test_datagen.flow_from_directory(r'/content/drive/MyDrive/IBM/Dataset/Dataset Plant Disease/Veg-dataset/Veg-dataset/test_set',target_size = (128,128),batch_size = 32,class_mode = 'categorical')\n"
      ],
      "metadata": {
        "colab": {
          "base_uri": "https://localhost:8080/"
        },
        "id": "X8ho5ZJEBwxw",
        "outputId": "da9cc342-235f-4367-ed24-946b28192346"
      },
      "execution_count": 25,
      "outputs": [
        {
          "output_type": "stream",
          "name": "stdout",
          "text": [
            "Found 3436 images belonging to 9 classes.\n"
          ]
        }
      ]
    },
    {
      "cell_type": "code",
      "source": [
        "x_train.class_indices"
      ],
      "metadata": {
        "colab": {
          "base_uri": "https://localhost:8080/"
        },
        "id": "T1JNLqg2B9yo",
        "outputId": "e63b0111-555b-4dfc-b5ec-1530d4528114"
      },
      "execution_count": 26,
      "outputs": [
        {
          "output_type": "execute_result",
          "data": {
            "text/plain": [
              "{'Pepper,_bell___Bacterial_spot': 0,\n",
              " 'Pepper,_bell___healthy': 1,\n",
              " 'Potato___Early_blight': 2,\n",
              " 'Potato___Late_blight': 3,\n",
              " 'Potato___healthy': 4,\n",
              " 'Tomato___Bacterial_spot': 5,\n",
              " 'Tomato___Late_blight': 6,\n",
              " 'Tomato___Leaf_Mold': 7,\n",
              " 'Tomato___Septoria_leaf_spot': 8}"
            ]
          },
          "metadata": {},
          "execution_count": 26
        }
      ]
    },
    {
      "cell_type": "code",
      "source": [
        "from tensorflow.keras.models import Sequential\n",
        "from tensorflow.keras.layers import Dense,Convolution2D,MaxPooling2D,Flatten\n"
      ],
      "metadata": {
        "id": "siCwbDfpB_K-"
      },
      "execution_count": 27,
      "outputs": []
    },
    {
      "cell_type": "code",
      "source": [
        "model=Sequential()"
      ],
      "metadata": {
        "id": "hkJ7faJPCD5n"
      },
      "execution_count": 28,
      "outputs": []
    },
    {
      "cell_type": "code",
      "source": [
        "model.add(Convolution2D(32,(3,3),input_shape=(128,128,3),activation='relu'))"
      ],
      "metadata": {
        "id": "KTsH7TSgCGxs"
      },
      "execution_count": 29,
      "outputs": []
    },
    {
      "cell_type": "code",
      "source": [
        "model.add(MaxPooling2D(pool_size=(2,2)))"
      ],
      "metadata": {
        "id": "93XIAiBDCJfx"
      },
      "execution_count": 30,
      "outputs": []
    },
    {
      "cell_type": "code",
      "source": [
        "model.add(Flatten())"
      ],
      "metadata": {
        "id": "7IMEcODwCMdx"
      },
      "execution_count": 31,
      "outputs": []
    },
    {
      "cell_type": "code",
      "source": [
        "model.summary()"
      ],
      "metadata": {
        "colab": {
          "base_uri": "https://localhost:8080/"
        },
        "id": "_DejmrT2CPov",
        "outputId": "e2465de4-23f2-42f7-d113-ac3e37de2afa"
      },
      "execution_count": 32,
      "outputs": [
        {
          "output_type": "stream",
          "name": "stdout",
          "text": [
            "Model: \"sequential_1\"\n",
            "_________________________________________________________________\n",
            " Layer (type)                Output Shape              Param #   \n",
            "=================================================================\n",
            " conv2d_1 (Conv2D)           (None, 126, 126, 32)      896       \n",
            "                                                                 \n",
            " max_pooling2d_1 (MaxPooling  (None, 63, 63, 32)       0         \n",
            " 2D)                                                             \n",
            "                                                                 \n",
            " flatten_1 (Flatten)         (None, 127008)            0         \n",
            "                                                                 \n",
            "=================================================================\n",
            "Total params: 896\n",
            "Trainable params: 896\n",
            "Non-trainable params: 0\n",
            "_________________________________________________________________\n"
          ]
        }
      ]
    },
    {
      "cell_type": "code",
      "source": [
        "model.add(Dense(9,activation='softmax'))"
      ],
      "metadata": {
        "id": "ZJv6wp6CCUAb"
      },
      "execution_count": 37,
      "outputs": []
    },
    {
      "cell_type": "code",
      "source": [
        "model.compile(loss='categorical_crossentropy',optimizer='adam',metrics=['accuracy'])"
      ],
      "metadata": {
        "id": "sxKmFUNtCZdz"
      },
      "execution_count": 38,
      "outputs": []
    },
    {
      "cell_type": "code",
      "source": [
        "len(x_train)"
      ],
      "metadata": {
        "colab": {
          "base_uri": "https://localhost:8080/"
        },
        "id": "H9jNk-Y3Cc0X",
        "outputId": "8db26a66-50d6-407d-8e8b-3714b1e957b1"
      },
      "execution_count": 39,
      "outputs": [
        {
          "output_type": "execute_result",
          "data": {
            "text/plain": [
              "357"
            ]
          },
          "metadata": {},
          "execution_count": 39
        }
      ]
    },
    {
      "cell_type": "code",
      "source": [
        "model.fit_generator(x_train,steps_per_epoch=len(x_train),validation_data=x_test,validation_steps=len(x_test),epochs=10)"
      ],
      "metadata": {
        "colab": {
          "base_uri": "https://localhost:8080/"
        },
        "id": "AfghFdgdCkhY",
        "outputId": "cb002cd2-5779-4982-e492-3ff3053b4c13"
      },
      "execution_count": 40,
      "outputs": [
        {
          "output_type": "stream",
          "name": "stderr",
          "text": [
            "/usr/local/lib/python3.7/dist-packages/ipykernel_launcher.py:1: UserWarning: `Model.fit_generator` is deprecated and will be removed in a future version. Please use `Model.fit`, which supports generators.\n",
            "  \"\"\"Entry point for launching an IPython kernel.\n"
          ]
        },
        {
          "output_type": "stream",
          "name": "stdout",
          "text": [
            "Epoch 1/10\n",
            "357/357 [==============================] - 3005s 8s/step - loss: 2.1432 - accuracy: 0.1668 - val_loss: 2.1199 - val_accuracy: 0.1772\n",
            "Epoch 2/10\n",
            "357/357 [==============================] - 77s 216ms/step - loss: 2.0963 - accuracy: 0.1698 - val_loss: 2.0906 - val_accuracy: 0.1941\n",
            "Epoch 3/10\n",
            "357/357 [==============================] - 76s 213ms/step - loss: 2.0807 - accuracy: 0.1864 - val_loss: 2.0851 - val_accuracy: 0.1941\n",
            "Epoch 4/10\n",
            "357/357 [==============================] - 77s 215ms/step - loss: 2.0764 - accuracy: 0.1864 - val_loss: 2.0833 - val_accuracy: 0.1941\n",
            "Epoch 5/10\n",
            "357/357 [==============================] - 76s 213ms/step - loss: 2.0748 - accuracy: 0.1864 - val_loss: 2.0825 - val_accuracy: 0.1941\n",
            "Epoch 6/10\n",
            "357/357 [==============================] - 77s 216ms/step - loss: 2.0740 - accuracy: 0.1864 - val_loss: 2.0822 - val_accuracy: 0.1941\n",
            "Epoch 7/10\n",
            "357/357 [==============================] - 76s 212ms/step - loss: 2.0737 - accuracy: 0.1864 - val_loss: 2.0822 - val_accuracy: 0.1941\n",
            "Epoch 8/10\n",
            "357/357 [==============================] - 76s 212ms/step - loss: 2.0735 - accuracy: 0.1864 - val_loss: 2.0819 - val_accuracy: 0.1941\n",
            "Epoch 9/10\n",
            "357/357 [==============================] - 77s 215ms/step - loss: 2.0736 - accuracy: 0.1864 - val_loss: 2.0819 - val_accuracy: 0.1941\n",
            "Epoch 10/10\n",
            "357/357 [==============================] - 76s 213ms/step - loss: 2.0736 - accuracy: 0.1864 - val_loss: 2.0815 - val_accuracy: 0.1941\n"
          ]
        },
        {
          "output_type": "execute_result",
          "data": {
            "text/plain": [
              "<keras.callbacks.History at 0x7fe834f67950>"
            ]
          },
          "metadata": {},
          "execution_count": 40
        }
      ]
    },
    {
      "cell_type": "code",
      "source": [
        "model.save('vegetables.h5')"
      ],
      "metadata": {
        "id": "TOFXvOAsJU7x"
      },
      "execution_count": 41,
      "outputs": []
    }
  ],
  "metadata": {
    "colab": {
      "collapsed_sections": [],
      "name": "Welcome To Colaboratory",
      "provenance": []
    },
    "kernelspec": {
      "display_name": "Python 3",
      "name": "python3"
    },
    "accelerator": "GPU",
    "gpuClass": "standard"
  },
  "nbformat": 4,
  "nbformat_minor": 0
}