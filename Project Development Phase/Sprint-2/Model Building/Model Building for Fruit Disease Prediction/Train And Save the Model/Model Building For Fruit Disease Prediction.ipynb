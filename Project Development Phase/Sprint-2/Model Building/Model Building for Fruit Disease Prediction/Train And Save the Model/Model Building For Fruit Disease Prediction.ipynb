{
  "cells": [
    {
      "cell_type": "code",
      "source": [
        "from tensorflow.keras.preprocessing.image import ImageDataGenerator"
      ],
      "metadata": {
        "id": "AYpfHC07A7iD"
      },
      "execution_count": 4,
      "outputs": []
    },
    {
      "cell_type": "code",
      "source": [
        "train_datagen = ImageDataGenerator(rescale=1./255,zoom_range=0.2,horizontal_flip=True) \n",
        "test_datagen = ImageDataGenerator(rescale=1./255,)"
      ],
      "metadata": {
        "id": "Cuf5x3t_BCpA"
      },
      "execution_count": 5,
      "outputs": []
    },
    {
      "cell_type": "code",
      "source": [
        "x_train = train_datagen.flow_from_directory(r'/content/drive/MyDrive/IBM/Dataset/Dataset Plant Disease/fruit-dataset/fruit-dataset/train',target_size = (128,128),batch_size = 32, class_mode = 'categorical')"
      ],
      "metadata": {
        "id": "WYMY6CSBBI9w",
        "outputId": "694ae0ea-eb79-4578-adee-6bebeda6cf8a",
        "colab": {
          "base_uri": "https://localhost:8080/"
        }
      },
      "execution_count": 7,
      "outputs": [
        {
          "output_type": "stream",
          "name": "stdout",
          "text": [
            "Found 5448 images belonging to 6 classes.\n"
          ]
        }
      ]
    },
    {
      "cell_type": "code",
      "source": [
        "x_test = test_datagen.flow_from_directory(r'/content/drive/MyDrive/IBM/Dataset/Dataset Plant Disease/fruit-dataset/fruit-dataset/test',target_size = (128,128),batch_size = 32,class_mode = 'categorical')\n"
      ],
      "metadata": {
        "id": "X8ho5ZJEBwxw",
        "outputId": "1ec4b512-dfcf-4a3f-ca0e-9bb1f7f06872",
        "colab": {
          "base_uri": "https://localhost:8080/"
        }
      },
      "execution_count": 8,
      "outputs": [
        {
          "output_type": "stream",
          "name": "stdout",
          "text": [
            "Found 1696 images belonging to 6 classes.\n"
          ]
        }
      ]
    },
    {
      "cell_type": "code",
      "source": [
        "x_train.class_indices"
      ],
      "metadata": {
        "id": "T1JNLqg2B9yo",
        "outputId": "d46a6626-e370-4b18-a430-978af5b99cc9",
        "colab": {
          "base_uri": "https://localhost:8080/"
        }
      },
      "execution_count": 9,
      "outputs": [
        {
          "output_type": "execute_result",
          "data": {
            "text/plain": [
              "{'Apple___Black_rot': 0,\n",
              " 'Apple___healthy': 1,\n",
              " 'Corn_(maize)___Northern_Leaf_Blight': 2,\n",
              " 'Corn_(maize)___healthy': 3,\n",
              " 'Peach___Bacterial_spot': 4,\n",
              " 'Peach___healthy': 5}"
            ]
          },
          "metadata": {},
          "execution_count": 9
        }
      ]
    },
    {
      "cell_type": "code",
      "source": [
        "from tensorflow.keras.models import Sequential\n",
        "from tensorflow.keras.layers import Dense,Convolution2D,MaxPooling2D,Flatten\n"
      ],
      "metadata": {
        "id": "siCwbDfpB_K-"
      },
      "execution_count": 10,
      "outputs": []
    },
    {
      "cell_type": "code",
      "source": [
        "model=Sequential()"
      ],
      "metadata": {
        "id": "hkJ7faJPCD5n"
      },
      "execution_count": 11,
      "outputs": []
    },
    {
      "cell_type": "code",
      "source": [
        "model.add(Convolution2D(32,(3,3),input_shape=(128,128,3),activation='relu'))"
      ],
      "metadata": {
        "id": "KTsH7TSgCGxs"
      },
      "execution_count": 12,
      "outputs": []
    },
    {
      "cell_type": "code",
      "source": [
        "model.add(MaxPooling2D(pool_size=(2,2)))"
      ],
      "metadata": {
        "id": "93XIAiBDCJfx"
      },
      "execution_count": 13,
      "outputs": []
    },
    {
      "cell_type": "code",
      "source": [
        "model.add(Flatten())"
      ],
      "metadata": {
        "id": "7IMEcODwCMdx"
      },
      "execution_count": 14,
      "outputs": []
    },
    {
      "cell_type": "code",
      "source": [
        "model.summary()"
      ],
      "metadata": {
        "id": "_DejmrT2CPov",
        "outputId": "b0f50dac-6e2a-4f04-ff76-c6978f7ea271",
        "colab": {
          "base_uri": "https://localhost:8080/"
        }
      },
      "execution_count": 15,
      "outputs": [
        {
          "output_type": "stream",
          "name": "stdout",
          "text": [
            "Model: \"sequential\"\n",
            "_________________________________________________________________\n",
            " Layer (type)                Output Shape              Param #   \n",
            "=================================================================\n",
            " conv2d (Conv2D)             (None, 126, 126, 32)      896       \n",
            "                                                                 \n",
            " max_pooling2d (MaxPooling2D  (None, 63, 63, 32)       0         \n",
            " )                                                               \n",
            "                                                                 \n",
            " flatten (Flatten)           (None, 127008)            0         \n",
            "                                                                 \n",
            "=================================================================\n",
            "Total params: 896\n",
            "Trainable params: 896\n",
            "Non-trainable params: 0\n",
            "_________________________________________________________________\n"
          ]
        }
      ]
    },
    {
      "cell_type": "code",
      "source": [
        "model.add(Dense(6,activation='softmax'))"
      ],
      "metadata": {
        "id": "ZJv6wp6CCUAb"
      },
      "execution_count": 16,
      "outputs": []
    },
    {
      "cell_type": "code",
      "source": [
        "model.compile(loss='categorical_crossentropy',optimizer='adam',metrics=['accuracy'])"
      ],
      "metadata": {
        "id": "sxKmFUNtCZdz"
      },
      "execution_count": 17,
      "outputs": []
    },
    {
      "cell_type": "code",
      "source": [
        "len(x_train)"
      ],
      "metadata": {
        "id": "H9jNk-Y3Cc0X",
        "outputId": "311d8bac-dc96-4720-fd19-6a12ef6b4ea1",
        "colab": {
          "base_uri": "https://localhost:8080/"
        }
      },
      "execution_count": 18,
      "outputs": [
        {
          "output_type": "execute_result",
          "data": {
            "text/plain": [
              "171"
            ]
          },
          "metadata": {},
          "execution_count": 18
        }
      ]
    },
    {
      "cell_type": "code",
      "source": [
        "model.fit_generator(x_train,steps_per_epoch=len(x_train),validation_data=x_test,validation_steps=len(x_test),epochs=10)"
      ],
      "metadata": {
        "id": "AfghFdgdCkhY",
        "outputId": "de7ddb93-dfa2-447b-8a38-732efc6fedc8",
        "colab": {
          "base_uri": "https://localhost:8080/"
        }
      },
      "execution_count": 20,
      "outputs": [
        {
          "metadata": {
            "tags": null
          },
          "name": "stderr",
          "output_type": "stream",
          "text": [
            "/usr/local/lib/python3.7/dist-packages/ipykernel_launcher.py:1: UserWarning: `Model.fit_generator` is deprecated and will be removed in a future version. Please use `Model.fit`, which supports generators.\n",
            "  \"\"\"Entry point for launching an IPython kernel.\n"
          ]
        },
        {
          "metadata": {
            "tags": null
          },
          "name": "stdout",
          "output_type": "stream",
          "text": [
            "Epoch 1/10\n",
            "171/171 [==============================] - 1310s 8s/step - loss: 1.1538 - accuracy: 0.7673 - val_loss: 0.2983 - val_accuracy: 0.8856\n",
            "Epoch 2/10\n",
            "171/171 [==============================] - 37s 214ms/step - loss: 0.2908 - accuracy: 0.9005 - val_loss: 0.2164 - val_accuracy: 0.9204\n",
            "Epoch 3/10\n",
            "171/171 [==============================] - 36s 211ms/step - loss: 0.2305 - accuracy: 0.9174 - val_loss: 0.2043 - val_accuracy: 0.9334\n",
            "Epoch 4/10\n",
            "171/171 [==============================] - 36s 212ms/step - loss: 0.2040 - accuracy: 0.9326 - val_loss: 0.1546 - val_accuracy: 0.9422\n",
            "Epoch 5/10\n",
            "171/171 [==============================] - 36s 213ms/step - loss: 0.1913 - accuracy: 0.9356 - val_loss: 0.1513 - val_accuracy: 0.9446\n",
            "Epoch 6/10\n",
            "171/171 [==============================] - 36s 211ms/step - loss: 0.1677 - accuracy: 0.9425 - val_loss: 0.2398 - val_accuracy: 0.9186\n",
            "Epoch 7/10\n",
            "171/171 [==============================] - 36s 209ms/step - loss: 0.1564 - accuracy: 0.9449 - val_loss: 0.1159 - val_accuracy: 0.9552\n",
            "Epoch 8/10\n",
            "171/171 [==============================] - 36s 211ms/step - loss: 0.1451 - accuracy: 0.9521 - val_loss: 0.1630 - val_accuracy: 0.9475\n",
            "Epoch 9/10\n",
            "171/171 [==============================] - 36s 213ms/step - loss: 0.1404 - accuracy: 0.9514 - val_loss: 0.1704 - val_accuracy: 0.9404\n",
            "Epoch 10/10\n",
            "171/171 [==============================] - 36s 211ms/step - loss: 0.1150 - accuracy: 0.9598 - val_loss: 0.1693 - val_accuracy: 0.9452\n"
          ]
        },
        {
          "data": {
            "text/plain": [
              "<keras.callbacks.History at 0x7fe8b35d6ad0>"
            ]
          },
          "execution_count": 20,
          "metadata": {},
          "output_type": "execute_result"
        }
      ]
    },
    {
      "cell_type": "code",
      "source": [
        "model.save('fruit.h5')"
      ],
      "metadata": {
        "id": "TOFXvOAsJU7x"
      },
      "execution_count": 21,
      "outputs": []
    },
    {
      "cell_type": "code",
      "source": [],
      "metadata": {
        "id": "88Ct1L1DJx7g"
      },
      "execution_count": null,
      "outputs": []
    }
  ],
  "metadata": {
    "colab": {
      "collapsed_sections": [],
      "name": "Welcome To Colaboratory",
      "provenance": []
    },
    "kernelspec": {
      "display_name": "Python 3",
      "name": "python3"
    },
    "accelerator": "GPU",
    "gpuClass": "standard"
  },
  "nbformat": 4,
  "nbformat_minor": 0
}